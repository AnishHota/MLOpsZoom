{
 "cells": [
  {
   "cell_type": "markdown",
   "metadata": {},
   "source": [
    "## MLFlow's Model Registry"
   ]
  },
  {
   "cell_type": "code",
   "execution_count": 9,
   "metadata": {},
   "outputs": [],
   "source": [
    "from mlflow.tracking import MlflowClient\n",
    "\n",
    "MLFLOW_TRACKING_URI = \"sqlite:///hw_mlflow.db\""
   ]
  },
  {
   "cell_type": "code",
   "execution_count": 10,
   "metadata": {},
   "outputs": [],
   "source": [
    "client = MlflowClient(tracking_uri=MLFLOW_TRACKING_URI)"
   ]
  },
  {
   "cell_type": "code",
   "execution_count": 11,
   "metadata": {},
   "outputs": [
    {
     "data": {
      "text/plain": [
       "[<Experiment: artifact_location='file:///D:/Study/Conda Projects/mlops-zoom/02-exp-tracking/hw_artifact/2', creation_time=1716838839820, experiment_id='2', last_update_time=1716838839820, lifecycle_stage='active', name='random-forest-best-models', tags={}>,\n",
       " <Experiment: artifact_location='file:///D:/Study/Conda Projects/mlops-zoom/02-exp-tracking/hw_artifact/1', creation_time=1716837893303, experiment_id='1', last_update_time=1716837893303, lifecycle_stage='active', name='random-forest-hyperopt', tags={}>,\n",
       " <Experiment: artifact_location='file:///D:/Study/Conda Projects/mlops-zoom/02-exp-tracking/hw_artifact/0', creation_time=1716836521534, experiment_id='0', last_update_time=1716836521534, lifecycle_stage='active', name='Default', tags={}>]"
      ]
     },
     "execution_count": 11,
     "metadata": {},
     "output_type": "execute_result"
    }
   ],
   "source": [
    "client.search_experiments()"
   ]
  },
  {
   "cell_type": "code",
   "execution_count": 12,
   "metadata": {},
   "outputs": [],
   "source": [
    "from mlflow.entities import ViewType"
   ]
  },
  {
   "cell_type": "code",
   "execution_count": 13,
   "metadata": {},
   "outputs": [],
   "source": [
    "EXPERIMENT_NAME = \"random-forest-best-models\""
   ]
  },
  {
   "cell_type": "code",
   "execution_count": 16,
   "metadata": {},
   "outputs": [
    {
     "name": "stdout",
     "output_type": "stream",
     "text": [
      "<Experiment: artifact_location='file:///D:/Study/Conda Projects/mlops-zoom/02-exp-tracking/hw_artifact/2', creation_time=1716838839820, experiment_id='2', last_update_time=1716838839820, lifecycle_stage='active', name='random-forest-best-models', tags={}>\n"
     ]
    }
   ],
   "source": [
    "experiment = client.get_experiment_by_name(EXPERIMENT_NAME)\n",
    "print(experiment)"
   ]
  },
  {
   "cell_type": "code",
   "execution_count": 18,
   "metadata": {},
   "outputs": [],
   "source": [
    "best_run = client.search_runs(\n",
    "    experiment_ids=experiment.experiment_id,\n",
    "    run_view_type = ViewType.ACTIVE_ONLY,\n",
    "    max_results=1,\n",
    "    order_by=[\"metrics.rmse ASC\"]\n",
    ")[0]"
   ]
  },
  {
   "cell_type": "code",
   "execution_count": 20,
   "metadata": {},
   "outputs": [
    {
     "data": {
      "text/plain": [
       "'b968be71f7d14302802b61657897ab3a'"
      ]
     },
     "execution_count": 20,
     "metadata": {},
     "output_type": "execute_result"
    }
   ],
   "source": [
    "best_run.info.run_id"
   ]
  },
  {
   "cell_type": "code",
   "execution_count": 6,
   "metadata": {},
   "outputs": [],
   "source": [
    "runs = client.search_runs(\n",
    "    experiment_ids='2',\n",
    "    filter_string=\"metrics.rmse <7\",\n",
    "    run_view_type = ViewType.ACTIVE_ONLY,\n",
    "    max_results=3,\n",
    "    order_by=[\"metrics.rmse ASC\"]\n",
    ")"
   ]
  },
  {
   "cell_type": "code",
   "execution_count": 8,
   "metadata": {},
   "outputs": [
    {
     "name": "stdout",
     "output_type": "stream",
     "text": [
      "Run id: 59fb06bea53e4c349ec555d196693618 Rmse: 5.1916\n",
      "<Run: data=<RunData: metrics={'best_iteration': 99.0,\n",
      " 'rmse': 5.1916353344839115,\n",
      " 'stopped_iteration': 99.0,\n",
      " 'validation-rmse': 5.191635333046656}, params={'custom_metric': 'None',\n",
      " 'early_stopping_rounds': '50',\n",
      " 'learning_rate': '0.09585355369315604',\n",
      " 'max_depth': '30',\n",
      " 'maximize': 'None',\n",
      " 'min_child_weight': '1.060597050922164',\n",
      " 'num_boost_round': '100',\n",
      " 'objective': 'reg:linear',\n",
      " 'reg_alpha': '0.018060244040060163',\n",
      " 'reg_lambda': '0.011658731377413597',\n",
      " 'seed': '42',\n",
      " 'verbose_eval': 'True'}, tags={'mlflow.log-model.history': '[{\"run_id\": \"59fb06bea53e4c349ec555d196693618\", '\n",
      "                             '\"artifact_path\": \"model\", \"utc_time_created\": '\n",
      "                             '\"2024-05-27 18:10:48.868070\", \"flavors\": '\n",
      "                             '{\"python_function\": {\"loader_module\": '\n",
      "                             '\"mlflow.xgboost\", \"python_version\": \"3.10.14\", '\n",
      "                             '\"data\": \"model.xgb\", \"env\": {\"conda\": '\n",
      "                             '\"conda.yaml\", \"virtualenv\": \"python_env.yaml\"}}, '\n",
      "                             '\"xgboost\": {\"xgb_version\": \"2.0.3\", \"data\": '\n",
      "                             '\"model.xgb\", \"model_class\": '\n",
      "                             '\"xgboost.core.Booster\", \"model_format\": \"xgb\", '\n",
      "                             '\"code\": null}}, \"model_uuid\": '\n",
      "                             '\"5a85bfe39a6847498932298e1b530d0b\", '\n",
      "                             '\"mlflow_version\": \"2.13.0\", \"model_size_bytes\": '\n",
      "                             '4428949}, {\"run_id\": '\n",
      "                             '\"59fb06bea53e4c349ec555d196693618\", '\n",
      "                             '\"artifact_path\": \"models_mlflow\", '\n",
      "                             '\"utc_time_created\": \"2024-05-27 '\n",
      "                             '18:11:03.151443\", \"flavors\": {\"python_function\": '\n",
      "                             '{\"loader_module\": \"mlflow.xgboost\", '\n",
      "                             '\"python_version\": \"3.10.14\", \"data\": '\n",
      "                             '\"model.xgb\", \"env\": {\"conda\": \"conda.yaml\", '\n",
      "                             '\"virtualenv\": \"python_env.yaml\"}}, \"xgboost\": '\n",
      "                             '{\"xgb_version\": \"2.0.3\", \"data\": \"model.xgb\", '\n",
      "                             '\"model_class\": \"xgboost.core.Booster\", '\n",
      "                             '\"model_format\": \"xgb\", \"code\": null}}, '\n",
      "                             '\"model_uuid\": '\n",
      "                             '\"c62f10c7c3e34073b7d90d151189a1bb\", '\n",
      "                             '\"mlflow_version\": \"2.13.0\", \"model_size_bytes\": '\n",
      "                             '4428949}]',\n",
      " 'mlflow.runName': 'selective-seal-663',\n",
      " 'mlflow.source.name': 'd:\\\\Study\\\\Conda '\n",
      "                       'Projects\\\\mlops-zoom\\\\mlops\\\\lib\\\\site-packages\\\\ipykernel_launcher.py',\n",
      " 'mlflow.source.type': 'LOCAL',\n",
      " 'mlflow.user': 'anish'}>, info=<RunInfo: artifact_uri=('file:///d:/Study/Conda '\n",
      " 'Projects/mlops-zoom/02-exp-tracking/mlruns/2/59fb06bea53e4c349ec555d196693618/artifacts'), end_time=1716833465360, experiment_id='2', lifecycle_stage='active', run_id='59fb06bea53e4c349ec555d196693618', run_name='selective-seal-663', run_uuid='59fb06bea53e4c349ec555d196693618', start_time=1716833430378, status='FINISHED', user_id='anish'>, inputs=<RunInputs: dataset_inputs=[<DatasetInput: dataset=<Dataset: digest='79322741', name='dataset', profile=('{\"features_shape\": [65946, 5702], \"features_size\": 376024092, '\n",
      " '\"features_nbytes\": 1504096368}'), schema=('{\"mlflow_tensorspec\": {\"features\": \"[{\\\\\"type\\\\\": \\\\\"tensor\\\\\", '\n",
      " '\\\\\"tensor-spec\\\\\": {\\\\\"dtype\\\\\": \\\\\"float32\\\\\", \\\\\"shape\\\\\": [-1, 5702]}}]\", '\n",
      " '\"targets\": null}}'), source=('{\"tags\": {\"mlflow.user\": \"anish\", \"mlflow.source.name\": '\n",
      " '\"d:\\\\\\\\Study\\\\\\\\Conda '\n",
      " 'Projects\\\\\\\\mlops-zoom\\\\\\\\mlops\\\\\\\\lib\\\\\\\\site-packages\\\\\\\\ipykernel_launcher.py\", '\n",
      " '\"mlflow.source.type\": \"LOCAL\"}}'), source_type='code'>, tags=[<InputTag: key='mlflow.data.context', value='train'>]>,\n",
      " <DatasetInput: dataset=<Dataset: digest='d7bd3ebe', name='validation', profile=('{\"features_shape\": [62574, 5702], \"features_size\": 356796948, '\n",
      " '\"features_nbytes\": 1427187792}'), schema=('{\"mlflow_tensorspec\": {\"features\": \"[{\\\\\"type\\\\\": \\\\\"tensor\\\\\", '\n",
      " '\\\\\"tensor-spec\\\\\": {\\\\\"dtype\\\\\": \\\\\"float32\\\\\", \\\\\"shape\\\\\": [-1, 5702]}}]\", '\n",
      " '\"targets\": null}}'), source=('{\"tags\": {\"mlflow.user\": \"anish\", \"mlflow.source.name\": '\n",
      " '\"d:\\\\\\\\Study\\\\\\\\Conda '\n",
      " 'Projects\\\\\\\\mlops-zoom\\\\\\\\mlops\\\\\\\\lib\\\\\\\\site-packages\\\\\\\\ipykernel_launcher.py\", '\n",
      " '\"mlflow.source.type\": \"LOCAL\"}}'), source_type='code'>, tags=[<InputTag: key='mlflow.data.context', value='eval'>]>]>>\n",
      "Run id: 09ea924d01d943d090abc307b04dcb0e Rmse: 5.4351\n",
      "<Run: data=<RunData: metrics={'rmse': 5.435092465980111,\n",
      " 'training_mean_absolute_error': 1.7010501056727618,\n",
      " 'training_mean_squared_error': 6.5019021745605,\n",
      " 'training_r2_score': 0.9201514285423767,\n",
      " 'training_root_mean_squared_error': 2.549882776631212,\n",
      " 'training_score': 0.9201514285423767}, params={'bootstrap': 'True',\n",
      " 'ccp_alpha': '0.0',\n",
      " 'criterion': 'squared_error',\n",
      " 'max_depth': 'None',\n",
      " 'max_features': '1.0',\n",
      " 'max_leaf_nodes': 'None',\n",
      " 'max_samples': 'None',\n",
      " 'min_impurity_decrease': '0.0',\n",
      " 'min_samples_leaf': '1',\n",
      " 'min_samples_split': '2',\n",
      " 'min_weight_fraction_leaf': '0.0',\n",
      " 'monotonic_cst': 'None',\n",
      " 'n_estimators': '100',\n",
      " 'n_jobs': 'None',\n",
      " 'oob_score': 'False',\n",
      " 'random_state': 'None',\n",
      " 'train-data-path': 'D:\\\\Study\\\\Conda '\n",
      "                    'Projects\\\\mlops-zoom\\\\data\\\\green\\\\green_tripdata_2023-01.parquet',\n",
      " 'valid-data-path': 'D:\\\\Study\\\\Conda '\n",
      "                    'Projects\\\\mlops-zoom\\\\data\\\\green\\\\green_tripdata_2023-02.parquet',\n",
      " 'verbose': '0',\n",
      " 'warm_start': 'False'}, tags={'estimator_class': 'sklearn.ensemble._forest.RandomForestRegressor',\n",
      " 'estimator_name': 'RandomForestRegressor',\n",
      " 'mlflow.log-model.history': '[{\"run_id\": \"09ea924d01d943d090abc307b04dcb0e\", '\n",
      "                             '\"artifact_path\": \"model\", \"utc_time_created\": '\n",
      "                             '\"2024-05-27 18:25:51.844918\", \"flavors\": '\n",
      "                             '{\"python_function\": {\"model_path\": \"model.pkl\", '\n",
      "                             '\"predict_fn\": \"predict\", \"loader_module\": '\n",
      "                             '\"mlflow.sklearn\", \"python_version\": \"3.10.14\", '\n",
      "                             '\"env\": {\"conda\": \"conda.yaml\", \"virtualenv\": '\n",
      "                             '\"python_env.yaml\"}}, \"sklearn\": '\n",
      "                             '{\"pickled_model\": \"model.pkl\", '\n",
      "                             '\"sklearn_version\": \"1.4.2\", '\n",
      "                             '\"serialization_format\": \"cloudpickle\", \"code\": '\n",
      "                             'null}}, \"model_uuid\": '\n",
      "                             '\"c8631d247b78499e9e24c54ad26525f7\", '\n",
      "                             '\"mlflow_version\": \"2.13.0\", \"signature\": '\n",
      "                             '{\"inputs\": \"[{\\\\\"type\\\\\": \\\\\"tensor\\\\\", '\n",
      "                             '\\\\\"tensor-spec\\\\\": {\\\\\"dtype\\\\\": \\\\\"float64\\\\\", '\n",
      "                             '\\\\\"shape\\\\\": [-1, 5702]}}]\", \"outputs\": '\n",
      "                             '\"[{\\\\\"type\\\\\": \\\\\"tensor\\\\\", \\\\\"tensor-spec\\\\\": '\n",
      "                             '{\\\\\"dtype\\\\\": \\\\\"float64\\\\\", \\\\\"shape\\\\\": '\n",
      "                             '[-1]}}]\", \"params\": null}, \"model_size_bytes\": '\n",
      "                             '402011861}]',\n",
      " 'mlflow.runName': 'unique-boar-223',\n",
      " 'mlflow.source.name': 'd:\\\\Study\\\\Conda '\n",
      "                       'Projects\\\\mlops-zoom\\\\mlops\\\\lib\\\\site-packages\\\\ipykernel_launcher.py',\n",
      " 'mlflow.source.type': 'LOCAL',\n",
      " 'mlflow.user': 'anish'}>, info=<RunInfo: artifact_uri=('file:///d:/Study/Conda '\n",
      " 'Projects/mlops-zoom/02-exp-tracking/mlruns/2/09ea924d01d943d090abc307b04dcb0e/artifacts'), end_time=1716834367197, experiment_id='2', lifecycle_stage='active', run_id='09ea924d01d943d090abc307b04dcb0e', run_name='unique-boar-223', run_uuid='09ea924d01d943d090abc307b04dcb0e', start_time=1716834023549, status='FINISHED', user_id='anish'>, inputs=<RunInputs: dataset_inputs=[<DatasetInput: dataset=<Dataset: digest='7edda543', name='dataset', profile=('{\"features_shape\": [62574, 5702], \"features_size\": 356796948, '\n",
      " '\"features_nbytes\": 2854375584}'), schema=('{\"mlflow_tensorspec\": {\"features\": \"[{\\\\\"type\\\\\": \\\\\"tensor\\\\\", '\n",
      " '\\\\\"tensor-spec\\\\\": {\\\\\"dtype\\\\\": \\\\\"float64\\\\\", \\\\\"shape\\\\\": [-1, 5702]}}]\", '\n",
      " '\"targets\": null}}'), source=('{\"tags\": {\"mlflow.user\": \"anish\", \"mlflow.source.name\": '\n",
      " '\"d:\\\\\\\\Study\\\\\\\\Conda '\n",
      " 'Projects\\\\\\\\mlops-zoom\\\\\\\\mlops\\\\\\\\lib\\\\\\\\site-packages\\\\\\\\ipykernel_launcher.py\", '\n",
      " '\"mlflow.source.type\": \"LOCAL\"}}'), source_type='code'>, tags=[<InputTag: key='mlflow.data.context', value='eval'>]>]>>\n",
      "Run id: 4cee905d0b7e4cdfa267de6ceb8dce4e Rmse: 5.4757\n",
      "<Run: data=<RunData: metrics={'rmse': 5.4757316771276425,\n",
      " 'training_mean_absolute_error': 3.534507986226021,\n",
      " 'training_mean_squared_error': 28.766919955686514,\n",
      " 'training_r2_score': 0.6467191597122683,\n",
      " 'training_root_mean_squared_error': 5.363480209312468,\n",
      " 'training_score': 0.6467191597122683}, params={'alpha': '0.9',\n",
      " 'ccp_alpha': '0.0',\n",
      " 'criterion': 'friedman_mse',\n",
      " 'init': 'None',\n",
      " 'learning_rate': '0.1',\n",
      " 'loss': 'squared_error',\n",
      " 'max_depth': '3',\n",
      " 'max_features': 'None',\n",
      " 'max_leaf_nodes': 'None',\n",
      " 'min_impurity_decrease': '0.0',\n",
      " 'min_samples_leaf': '1',\n",
      " 'min_samples_split': '2',\n",
      " 'min_weight_fraction_leaf': '0.0',\n",
      " 'n_estimators': '100',\n",
      " 'n_iter_no_change': 'None',\n",
      " 'random_state': 'None',\n",
      " 'subsample': '1.0',\n",
      " 'tol': '0.0001',\n",
      " 'train-data-path': 'D:\\\\Study\\\\Conda '\n",
      "                    'Projects\\\\mlops-zoom\\\\data\\\\green\\\\green_tripdata_2023-01.parquet',\n",
      " 'valid-data-path': 'D:\\\\Study\\\\Conda '\n",
      "                    'Projects\\\\mlops-zoom\\\\data\\\\green\\\\green_tripdata_2023-02.parquet',\n",
      " 'validation_fraction': '0.1',\n",
      " 'verbose': '0',\n",
      " 'warm_start': 'False'}, tags={'estimator_class': 'sklearn.ensemble._gb.GradientBoostingRegressor',\n",
      " 'estimator_name': 'GradientBoostingRegressor',\n",
      " 'mlflow.log-model.history': '[{\"run_id\": \"4cee905d0b7e4cdfa267de6ceb8dce4e\", '\n",
      "                             '\"artifact_path\": \"model\", \"utc_time_created\": '\n",
      "                             '\"2024-05-27 18:26:10.649875\", \"flavors\": '\n",
      "                             '{\"python_function\": {\"model_path\": \"model.pkl\", '\n",
      "                             '\"predict_fn\": \"predict\", \"loader_module\": '\n",
      "                             '\"mlflow.sklearn\", \"python_version\": \"3.10.14\", '\n",
      "                             '\"env\": {\"conda\": \"conda.yaml\", \"virtualenv\": '\n",
      "                             '\"python_env.yaml\"}}, \"sklearn\": '\n",
      "                             '{\"pickled_model\": \"model.pkl\", '\n",
      "                             '\"sklearn_version\": \"1.4.2\", '\n",
      "                             '\"serialization_format\": \"cloudpickle\", \"code\": '\n",
      "                             'null}}, \"model_uuid\": '\n",
      "                             '\"42c5204c106849ca821ca92c59c84eac\", '\n",
      "                             '\"mlflow_version\": \"2.13.0\", \"signature\": '\n",
      "                             '{\"inputs\": \"[{\\\\\"type\\\\\": \\\\\"tensor\\\\\", '\n",
      "                             '\\\\\"tensor-spec\\\\\": {\\\\\"dtype\\\\\": \\\\\"float64\\\\\", '\n",
      "                             '\\\\\"shape\\\\\": [-1, 5702]}}]\", \"outputs\": '\n",
      "                             '\"[{\\\\\"type\\\\\": \\\\\"tensor\\\\\", \\\\\"tensor-spec\\\\\": '\n",
      "                             '{\\\\\"dtype\\\\\": \\\\\"float64\\\\\", \\\\\"shape\\\\\": '\n",
      "                             '[-1]}}]\", \"params\": null}, \"model_size_bytes\": '\n",
      "                             '123666}]',\n",
      " 'mlflow.runName': 'debonair-sow-523',\n",
      " 'mlflow.source.name': 'd:\\\\Study\\\\Conda '\n",
      "                       'Projects\\\\mlops-zoom\\\\mlops\\\\lib\\\\site-packages\\\\ipykernel_launcher.py',\n",
      " 'mlflow.source.type': 'LOCAL',\n",
      " 'mlflow.user': 'anish'}>, info=<RunInfo: artifact_uri=('file:///d:/Study/Conda '\n",
      " 'Projects/mlops-zoom/02-exp-tracking/mlruns/2/4cee905d0b7e4cdfa267de6ceb8dce4e/artifacts'), end_time=1716834386034, experiment_id='2', lifecycle_stage='active', run_id='4cee905d0b7e4cdfa267de6ceb8dce4e', run_name='debonair-sow-523', run_uuid='4cee905d0b7e4cdfa267de6ceb8dce4e', start_time=1716834367286, status='FINISHED', user_id='anish'>, inputs=<RunInputs: dataset_inputs=[<DatasetInput: dataset=<Dataset: digest='7edda543', name='dataset', profile=('{\"features_shape\": [62574, 5702], \"features_size\": 356796948, '\n",
      " '\"features_nbytes\": 2854375584}'), schema=('{\"mlflow_tensorspec\": {\"features\": \"[{\\\\\"type\\\\\": \\\\\"tensor\\\\\", '\n",
      " '\\\\\"tensor-spec\\\\\": {\\\\\"dtype\\\\\": \\\\\"float64\\\\\", \\\\\"shape\\\\\": [-1, 5702]}}]\", '\n",
      " '\"targets\": null}}'), source=('{\"tags\": {\"mlflow.user\": \"anish\", \"mlflow.source.name\": '\n",
      " '\"d:\\\\\\\\Study\\\\\\\\Conda '\n",
      " 'Projects\\\\\\\\mlops-zoom\\\\\\\\mlops\\\\\\\\lib\\\\\\\\site-packages\\\\\\\\ipykernel_launcher.py\", '\n",
      " '\"mlflow.source.type\": \"LOCAL\"}}'), source_type='code'>, tags=[<InputTag: key='mlflow.data.context', value='eval'>]>]>>\n"
     ]
    }
   ],
   "source": [
    "for run in runs:\n",
    "    print(f\"Run id: {run.info.run_id} Rmse: {run.data.metrics['rmse']:.4f}\")\n",
    "    print(run)"
   ]
  },
  {
   "cell_type": "code",
   "execution_count": null,
   "metadata": {},
   "outputs": [],
   "source": [
    "import mlflow.pyfunc\n",
    "\n",
    "model_name = \"dev.taxi_regression\"\n",
    "# Use model version\n",
    "model_version = 1\n",
    "model = mlflow.pyfunc.load_model(model_uri=f\"models:/{model_name}/{model_version}\")\n",
    "model.predict(data)\n",
    "# Use model alias\n",
    "alias = \"champion\"\n",
    "champion_version = mlflow.pyfunc.load_model(f\"models:/{model_name}@{alias}\")\n",
    "champion_version.predict(data)\n",
    "\n"
   ]
  }
 ],
 "metadata": {
  "kernelspec": {
   "display_name": "Python 3",
   "language": "python",
   "name": "python3"
  },
  "language_info": {
   "codemirror_mode": {
    "name": "ipython",
    "version": 3
   },
   "file_extension": ".py",
   "mimetype": "text/x-python",
   "name": "python",
   "nbconvert_exporter": "python",
   "pygments_lexer": "ipython3",
   "version": "3.10.14"
  }
 },
 "nbformat": 4,
 "nbformat_minor": 2
}
