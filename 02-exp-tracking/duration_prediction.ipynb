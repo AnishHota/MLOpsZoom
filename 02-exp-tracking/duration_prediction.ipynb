{
 "cells": [
  {
   "cell_type": "markdown",
   "metadata": {},
   "source": [
    "### Importing libraries"
   ]
  },
  {
   "cell_type": "code",
   "execution_count": 2,
   "metadata": {},
   "outputs": [],
   "source": [
    "import pandas as pd"
   ]
  },
  {
   "cell_type": "code",
   "execution_count": 3,
   "metadata": {},
   "outputs": [],
   "source": [
    "import seaborn as sns\n",
    "import matplotlib.pyplot as plt"
   ]
  },
  {
   "cell_type": "code",
   "execution_count": 4,
   "metadata": {},
   "outputs": [],
   "source": [
    "from sklearn.preprocessing import OneHotEncoder\n",
    "from sklearn.feature_extraction import DictVectorizer\n",
    "from sklearn.linear_model import LinearRegression\n",
    "from sklearn.linear_model import Lasso"
   ]
  },
  {
   "cell_type": "code",
   "execution_count": 5,
   "metadata": {},
   "outputs": [],
   "source": [
    "from sklearn.metrics import mean_squared_error"
   ]
  },
  {
   "cell_type": "code",
   "execution_count": 6,
   "metadata": {},
   "outputs": [],
   "source": [
    "import mlflow"
   ]
  },
  {
   "cell_type": "code",
   "execution_count": 7,
   "metadata": {},
   "outputs": [
    {
     "data": {
      "text/plain": [
       "<Experiment: artifact_location='file:///d:/Study/Conda Projects/mlops-zoom/02-exp-tracking/mlruns/2', creation_time=1716832980298, experiment_id='2', last_update_time=1716832980298, lifecycle_stage='active', name='models-experiment', tags={}>"
      ]
     },
     "execution_count": 7,
     "metadata": {},
     "output_type": "execute_result"
    }
   ],
   "source": [
    "mlflow.set_tracking_uri(\"sqlite:///mlflow.db\")\n",
    "mlflow.set_experiment(\"models-experiment\")"
   ]
  },
  {
   "cell_type": "markdown",
   "metadata": {},
   "source": [
    "### Reading the dataset"
   ]
  },
  {
   "cell_type": "code",
   "execution_count": 8,
   "metadata": {},
   "outputs": [],
   "source": [
    "def read_dataframe(filename):\n",
    "    df = pd.read_parquet(filename)\n",
    "    # Creating the target variable: duration\n",
    "    df['duration'] = df['lpep_dropoff_datetime'] - df['lpep_pickup_datetime']\n",
    "\n",
    "    # Converting duration into minutes\n",
    "    df['duration'] = df['duration'].apply(lambda td: td.total_seconds()/60)\n",
    "\n",
    "    df = df[((df['duration'] >= 1) & (df['duration'] <= 60))]\n",
    "\n",
    "    categorical = ['PULocationID','DOLocationID']\n",
    "    numerical = ['trip_distance']\n",
    "\n",
    "    df[categorical] = df[categorical].astype(str)\n",
    "    df['PU_DO'] = df['PULocationID']+\"_\"+df['DOLocationID']\n",
    "\n",
    "    return df"
   ]
  },
  {
   "cell_type": "code",
   "execution_count": 9,
   "metadata": {},
   "outputs": [],
   "source": [
    "df_train = read_dataframe(\"D:\\Study\\Conda Projects\\mlops-zoom\\data\\green\\green_tripdata_2023-01.parquet\")"
   ]
  },
  {
   "cell_type": "code",
   "execution_count": 10,
   "metadata": {},
   "outputs": [],
   "source": [
    "df_val = read_dataframe(\"D:\\Study\\Conda Projects\\mlops-zoom\\data\\green\\green_tripdata_2023-02.parquet\")"
   ]
  },
  {
   "cell_type": "code",
   "execution_count": 11,
   "metadata": {},
   "outputs": [
    {
     "data": {
      "text/plain": [
       "(65946, 62574)"
      ]
     },
     "execution_count": 11,
     "metadata": {},
     "output_type": "execute_result"
    }
   ],
   "source": [
    "len(df_train),len(df_val)"
   ]
  },
  {
   "cell_type": "markdown",
   "metadata": {},
   "source": [
    "### Exploring the dataset"
   ]
  },
  {
   "cell_type": "code",
   "execution_count": 1,
   "metadata": {},
   "outputs": [
    {
     "ename": "NameError",
     "evalue": "name 'df_train' is not defined",
     "output_type": "error",
     "traceback": [
      "\u001b[1;31m---------------------------------------------------------------------------\u001b[0m",
      "\u001b[1;31mNameError\u001b[0m                                 Traceback (most recent call last)",
      "Cell \u001b[1;32mIn[1], line 1\u001b[0m\n\u001b[1;32m----> 1\u001b[0m \u001b[43mdf_train\u001b[49m\u001b[38;5;241m.\u001b[39mhead()\n",
      "\u001b[1;31mNameError\u001b[0m: name 'df_train' is not defined"
     ]
    }
   ],
   "source": [
    "df_train.head()"
   ]
  },
  {
   "cell_type": "code",
   "execution_count": 13,
   "metadata": {},
   "outputs": [
    {
     "data": {
      "text/plain": [
       "VendorID                          int64\n",
       "lpep_pickup_datetime     datetime64[us]\n",
       "lpep_dropoff_datetime    datetime64[us]\n",
       "store_and_fwd_flag               object\n",
       "RatecodeID                      float64\n",
       "PULocationID                     object\n",
       "DOLocationID                     object\n",
       "passenger_count                 float64\n",
       "trip_distance                   float64\n",
       "fare_amount                     float64\n",
       "extra                           float64\n",
       "mta_tax                         float64\n",
       "tip_amount                      float64\n",
       "tolls_amount                    float64\n",
       "ehail_fee                        object\n",
       "improvement_surcharge           float64\n",
       "total_amount                    float64\n",
       "payment_type                    float64\n",
       "trip_type                       float64\n",
       "congestion_surcharge            float64\n",
       "duration                        float64\n",
       "PU_DO                            object\n",
       "dtype: object"
      ]
     },
     "execution_count": 13,
     "metadata": {},
     "output_type": "execute_result"
    }
   ],
   "source": [
    "df_train.dtypes"
   ]
  },
  {
   "cell_type": "code",
   "execution_count": 14,
   "metadata": {},
   "outputs": [
    {
     "data": {
      "text/plain": [
       "0    11.016667\n",
       "1     6.766667\n",
       "2     6.333333\n",
       "3     5.816667\n",
       "4     5.966667\n",
       "Name: duration, dtype: float64"
      ]
     },
     "execution_count": 14,
     "metadata": {},
     "output_type": "execute_result"
    }
   ],
   "source": [
    "df_train['duration'].head()"
   ]
  },
  {
   "cell_type": "code",
   "execution_count": 15,
   "metadata": {},
   "outputs": [
    {
     "data": {
      "text/plain": [
       "<seaborn.axisgrid.FacetGrid at 0x221fdcdc130>"
      ]
     },
     "execution_count": 15,
     "metadata": {},
     "output_type": "execute_result"
    },
    {
     "data": {
      "image/png": "[encoded data removed]",
      "text/plain": [
       "<Figure size 500x500 with 1 Axes>"
      ]
     },
     "metadata": {},
     "output_type": "display_data"
    }
   ],
   "source": [
    "sns.displot(df_train['duration'])"
   ]
  },
  {
   "cell_type": "code",
   "execution_count": 16,
   "metadata": {},
   "outputs": [
    {
     "data": {
      "text/plain": [
       "count    65946.000000\n",
       "mean        13.747575\n",
       "std          9.023810\n",
       "min          1.000000\n",
       "50%         11.533333\n",
       "95%         31.816667\n",
       "98%         40.501667\n",
       "99%         46.592500\n",
       "max         60.000000\n",
       "Name: duration, dtype: float64"
      ]
     },
     "execution_count": 16,
     "metadata": {},
     "output_type": "execute_result"
    }
   ],
   "source": [
    "df_train['duration'].describe(percentiles=[0.95,0.98,0.99])"
   ]
  },
  {
   "cell_type": "markdown",
   "metadata": {},
   "source": [
    "### Training and Validation Set"
   ]
  },
  {
   "cell_type": "code",
   "execution_count": 12,
   "metadata": {},
   "outputs": [],
   "source": [
    "categorical = ['PU_DO']\n",
    "numerical = ['trip_distance']"
   ]
  },
  {
   "cell_type": "code",
   "execution_count": 13,
   "metadata": {},
   "outputs": [
    {
     "data": {
      "text/plain": [
       "((65946, 22), (62574, 22))"
      ]
     },
     "execution_count": 13,
     "metadata": {},
     "output_type": "execute_result"
    }
   ],
   "source": [
    "df_train.shape, df_val.shape"
   ]
  },
  {
   "cell_type": "code",
   "execution_count": 14,
   "metadata": {},
   "outputs": [],
   "source": [
    "dv = DictVectorizer()\n",
    "train_dicts = df_train[categorical+numerical].to_dict(orient='records')\n",
    "X_train = dv.fit_transform(train_dicts)\n",
    "val_dicts = df_val[categorical+numerical].to_dict(orient='records')\n",
    "X_val = dv.transform(val_dicts)"
   ]
  },
  {
   "cell_type": "code",
   "execution_count": 15,
   "metadata": {},
   "outputs": [],
   "source": [
    "target='duration'\n",
    "y_train = df_train[target].values\n",
    "y_val = df_val[target].values"
   ]
  },
  {
   "cell_type": "code",
   "execution_count": 16,
   "metadata": {},
   "outputs": [
    {
     "name": "stderr",
     "output_type": "stream",
     "text": [
      "2024/05/27 11:19:47 INFO mlflow.tracking.fluent: Autologging successfully enabled for sklearn.\n"
     ]
    }
   ],
   "source": [
    "mlflow.autolog()"
   ]
  },
  {
   "cell_type": "code",
   "execution_count": 52,
   "metadata": {},
   "outputs": [
    {
     "name": "stderr",
     "output_type": "stream",
     "text": [
      "d:\\Study\\Conda Projects\\mlops-zoom\\mlops\\lib\\site-packages\\sklearn\\metrics\\_regression.py:483: FutureWarning: 'squared' is deprecated in version 1.4 and will be removed in 1.6. To calculate the root mean squared error, use the function'root_mean_squared_error'.\n",
      "  warnings.warn(\n",
      "d:\\Study\\Conda Projects\\mlops-zoom\\mlops\\lib\\site-packages\\_distutils_hack\\__init__.py:18: UserWarning: Distutils was imported before Setuptools, but importing Setuptools also replaces the `distutils` module in `sys.modules`. This may lead to undesirable behaviors or errors. To avoid these issues, avoid using distutils directly, ensure that setuptools is installed in the traditional way (e.g. not an editable install), and/or make sure that setuptools is always imported before distutils.\n",
      "  warnings.warn(\n",
      "d:\\Study\\Conda Projects\\mlops-zoom\\mlops\\lib\\site-packages\\_distutils_hack\\__init__.py:33: UserWarning: Setuptools is replacing distutils.\n",
      "  warnings.warn(\"Setuptools is replacing distutils.\")\n"
     ]
    }
   ],
   "source": [
    "with mlflow.start_run():\n",
    "    mlflow.log_param(\"train-data-path\",\"D:\\Study\\Conda Projects\\mlops-zoom\\data\\green\\green_tripdata_2023-01.parquet\")\n",
    "    mlflow.log_param(\"valid-data-path\",\"D:\\Study\\Conda Projects\\mlops-zoom\\data\\green\\green_tripdata_2023-02.parquet\")\n",
    "\n",
    "    mlflow.log_artifact(\"models/preprocessor.b\", artifact_path=\"preprocessor\")\n",
    "    # Linear Regression\n",
    "    lr = LinearRegression()\n",
    "    lr.fit(X_train,y_train)\n",
    "    y_pred = lr.predict(X_val)\n",
    "    rmse = mean_squared_error(y_true=y_val,y_pred=y_pred, squared=False)\n",
    "\n",
    "    mlflow.log_metric(\"rmse\",rmse)\n",
    "\n",
    "    mlflow.sklearn.log_model(lr, artifact_path=\"models_mlflow\")"
   ]
  },
  {
   "cell_type": "code",
   "execution_count": 37,
   "metadata": {},
   "outputs": [
    {
     "name": "stderr",
     "output_type": "stream",
     "text": [
      "d:\\Study\\Conda Projects\\mlops-zoom\\mlops\\lib\\site-packages\\sklearn\\metrics\\_regression.py:483: FutureWarning: 'squared' is deprecated in version 1.4 and will be removed in 1.6. To calculate the root mean squared error, use the function'root_mean_squared_error'.\n",
      "  warnings.warn(\n"
     ]
    }
   ],
   "source": [
    "with mlflow.start_run():\n",
    "    mlflow.set_tag(\"developer\",\"Anish\")\n",
    "\n",
    "    mlflow.log_param(\"train-data-path\",\"D:\\Study\\Conda Projects\\mlops-zoom\\data\\green\\green_tripdata_2023-01.parquet\")\n",
    "    mlflow.log_param(\"valid-data-path\",\"D:\\Study\\Conda Projects\\mlops-zoom\\data\\green\\green_tripdata_2023-02.parquet\")\n",
    "\n",
    "    alpha = 0.01\n",
    "    mlflow.log_param(\"alpha\",alpha)\n",
    "    # Lasso Regression\n",
    "    lasso = Lasso()\n",
    "    lasso.fit(X_train,y_train)\n",
    "    y_pred = lasso.predict(X_val)\n",
    "    rmse = mean_squared_error(y_true=y_val,y_pred=y_pred, squared=False)\n",
    "\n",
    "    mlflow.log_metric(\"rmse\",rmse)\n",
    "\n",
    "    # Saving the model as an artifact\n",
    "    mlflow.log_artifact(local_path=\"D:\\Study\\Conda Projects\\mlops-zoom\\\\02-exp-tracking\\models\\lr_model.bin\", artifact_path=\"models_pickle\")"
   ]
  },
  {
   "cell_type": "code",
   "execution_count": null,
   "metadata": {},
   "outputs": [],
   "source": [
    "sns.histplot(data=y_pred,kde=True,label='Prediction')\n",
    "sns.histplot(data=y_train,kde=True,label='actual')\n",
    "plt.legend()\n",
    "plt.show()"
   ]
  },
  {
   "cell_type": "markdown",
   "metadata": {},
   "source": [
    "### Saving the Model"
   ]
  },
  {
   "cell_type": "code",
   "execution_count": 22,
   "metadata": {},
   "outputs": [],
   "source": [
    "import pickle"
   ]
  },
  {
   "cell_type": "code",
   "execution_count": 23,
   "metadata": {},
   "outputs": [],
   "source": [
    "with open('D:\\Study\\Conda Projects\\mlops-zoom\\\\02-exp-tracking\\models\\lr_model.bin','wb') as f_out:\n",
    "    pickle.dump((dv,lr),f_out)"
   ]
  },
  {
   "cell_type": "markdown",
   "metadata": {},
   "source": [
    "### MLFLow Sample Run"
   ]
  },
  {
   "cell_type": "code",
   "execution_count": 28,
   "metadata": {},
   "outputs": [],
   "source": [
    "import xgboost as xgb"
   ]
  },
  {
   "cell_type": "code",
   "execution_count": 29,
   "metadata": {},
   "outputs": [],
   "source": [
    "from hyperopt import fmin, tpe, hp, STATUS_OK, Trials\n",
    "from hyperopt.pyll import scope"
   ]
  },
  {
   "cell_type": "code",
   "execution_count": 30,
   "metadata": {},
   "outputs": [],
   "source": [
    "train = xgb.DMatrix(X_train, label=y_train)\n",
    "valid = xgb.DMatrix(X_val, label=y_val)"
   ]
  },
  {
   "cell_type": "code",
   "execution_count": 31,
   "metadata": {},
   "outputs": [],
   "source": [
    "def objective(params):\n",
    "    with mlflow.start_run():\n",
    "        mlflow.set_tag(\"model\", \"xgboost\")\n",
    "        mlflow.log_params(params)\n",
    "        booster = xgb.train(\n",
    "            params=params,\n",
    "            dtrain=train,\n",
    "            num_boost_round=1000,\n",
    "            evals=[(valid, 'validation')],\n",
    "            early_stopping_rounds=50\n",
    "        )\n",
    "        y_pred = booster.predict(valid)\n",
    "        rmse = mean_squared_error(y_val, y_pred, squared=False)\n",
    "        mlflow.log_metric(\"rmse\", rmse)\n",
    "\n",
    "    return {'loss': rmse, 'status': STATUS_OK}"
   ]
  },
  {
   "cell_type": "code",
   "execution_count": 32,
   "metadata": {},
   "outputs": [],
   "source": [
    "search_space = {\n",
    "    'max_depth': scope.int(hp.quniform('max_depth', 4, 100, 1)),\n",
    "    'learning_rate': hp.loguniform('learning_rate', -3, 0),\n",
    "    'reg_alpha': hp.loguniform('reg_alpha', -5, -1),\n",
    "    'reg_lambda': hp.loguniform('reg_lambda', -6, -1),\n",
    "    'min_child_weight': hp.loguniform('min_child_weight', -1, 3),\n",
    "    'objective': 'reg:linear',\n",
    "    'seed': 42\n",
    "}"
   ]
  },
  {
   "cell_type": "code",
   "execution_count": null,
   "metadata": {},
   "outputs": [],
   "source": [
    "best_result = fmin(\n",
    "    fn=objective,\n",
    "    space=search_space,\n",
    "    algo=tpe.suggest,\n",
    "    max_evals=50,\n",
    "    trials=Trials()\n",
    ")"
   ]
  },
  {
   "cell_type": "code",
   "execution_count": 53,
   "metadata": {},
   "outputs": [
    {
     "name": "stderr",
     "output_type": "stream",
     "text": [
      "d:\\Study\\Conda Projects\\mlops-zoom\\mlops\\lib\\site-packages\\xgboost\\core.py:160: UserWarning: [11:10:33] WARNING: C:\\buildkite-agent\\builds\\buildkite-windows-cpu-autoscaling-group-i-0b3782d1791676daf-1\\xgboost\\xgboost-ci-windows\\src\\objective\\regression_obj.cu:209: reg:linear is now deprecated in favor of reg:squarederror.\n",
      "  warnings.warn(smsg, UserWarning)\n"
     ]
    },
    {
     "name": "stdout",
     "output_type": "stream",
     "text": [
      "[0]\tvalidation-rmse:8.73788\n",
      "[1]\tvalidation-rmse:8.22960\n",
      "[2]\tvalidation-rmse:7.78914\n",
      "[3]\tvalidation-rmse:7.40823\n",
      "[4]\tvalidation-rmse:7.08398\n",
      "[5]\tvalidation-rmse:6.80130\n",
      "[6]\tvalidation-rmse:6.56559\n",
      "[7]\tvalidation-rmse:6.35942\n",
      "[8]\tvalidation-rmse:6.18716\n",
      "[9]\tvalidation-rmse:6.04364\n",
      "[10]\tvalidation-rmse:5.91994\n",
      "[11]\tvalidation-rmse:5.81441\n",
      "[12]\tvalidation-rmse:5.72701\n",
      "[13]\tvalidation-rmse:5.65236\n",
      "[14]\tvalidation-rmse:5.58821\n",
      "[15]\tvalidation-rmse:5.53629\n",
      "[16]\tvalidation-rmse:5.49451\n",
      "[17]\tvalidation-rmse:5.45443\n",
      "[18]\tvalidation-rmse:5.42147\n",
      "[19]\tvalidation-rmse:5.39347\n",
      "[20]\tvalidation-rmse:5.37267\n",
      "[21]\tvalidation-rmse:5.35128\n",
      "[22]\tvalidation-rmse:5.33257\n",
      "[23]\tvalidation-rmse:5.31780\n",
      "[24]\tvalidation-rmse:5.30449\n",
      "[25]\tvalidation-rmse:5.29542\n",
      "[26]\tvalidation-rmse:5.28365\n",
      "[27]\tvalidation-rmse:5.27505\n",
      "[28]\tvalidation-rmse:5.26725\n",
      "[29]\tvalidation-rmse:5.26004\n",
      "[30]\tvalidation-rmse:5.25388\n",
      "[31]\tvalidation-rmse:5.24812\n",
      "[32]\tvalidation-rmse:5.24406\n",
      "[33]\tvalidation-rmse:5.24068\n",
      "[34]\tvalidation-rmse:5.23530\n",
      "[35]\tvalidation-rmse:5.23357\n",
      "[36]\tvalidation-rmse:5.23146\n",
      "[37]\tvalidation-rmse:5.22879\n",
      "[38]\tvalidation-rmse:5.22537\n",
      "[39]\tvalidation-rmse:5.22327\n",
      "[40]\tvalidation-rmse:5.22119\n",
      "[41]\tvalidation-rmse:5.22056\n",
      "[42]\tvalidation-rmse:5.21968\n",
      "[43]\tvalidation-rmse:5.21875\n",
      "[44]\tvalidation-rmse:5.21811\n",
      "[45]\tvalidation-rmse:5.21775\n",
      "[46]\tvalidation-rmse:5.21782\n",
      "[47]\tvalidation-rmse:5.21683\n",
      "[48]\tvalidation-rmse:5.21628\n",
      "[49]\tvalidation-rmse:5.21517\n",
      "[50]\tvalidation-rmse:5.21508\n",
      "[51]\tvalidation-rmse:5.21439\n",
      "[52]\tvalidation-rmse:5.21399\n",
      "[53]\tvalidation-rmse:5.21308\n",
      "[54]\tvalidation-rmse:5.21271\n",
      "[55]\tvalidation-rmse:5.21155\n",
      "[56]\tvalidation-rmse:5.21080\n",
      "[57]\tvalidation-rmse:5.20986\n",
      "[58]\tvalidation-rmse:5.20966\n",
      "[59]\tvalidation-rmse:5.20873\n",
      "[60]\tvalidation-rmse:5.20819\n",
      "[61]\tvalidation-rmse:5.20749\n",
      "[62]\tvalidation-rmse:5.20713\n",
      "[63]\tvalidation-rmse:5.20656\n",
      "[64]\tvalidation-rmse:5.20620\n",
      "[65]\tvalidation-rmse:5.20575\n",
      "[66]\tvalidation-rmse:5.20497\n",
      "[67]\tvalidation-rmse:5.20456\n",
      "[68]\tvalidation-rmse:5.20407\n",
      "[69]\tvalidation-rmse:5.20383\n",
      "[70]\tvalidation-rmse:5.20310\n",
      "[71]\tvalidation-rmse:5.20272\n",
      "[72]\tvalidation-rmse:5.20245\n",
      "[73]\tvalidation-rmse:5.20229\n",
      "[74]\tvalidation-rmse:5.20216\n",
      "[75]\tvalidation-rmse:5.20137\n",
      "[76]\tvalidation-rmse:5.20078\n",
      "[77]\tvalidation-rmse:5.20042\n",
      "[78]\tvalidation-rmse:5.19983\n",
      "[79]\tvalidation-rmse:5.19880\n",
      "[80]\tvalidation-rmse:5.19839\n",
      "[81]\tvalidation-rmse:5.19855\n",
      "[82]\tvalidation-rmse:5.19789\n",
      "[83]\tvalidation-rmse:5.19791\n",
      "[84]\tvalidation-rmse:5.19775\n",
      "[85]\tvalidation-rmse:5.19723\n",
      "[86]\tvalidation-rmse:5.19654\n",
      "[87]\tvalidation-rmse:5.19584\n",
      "[88]\tvalidation-rmse:5.19568\n",
      "[89]\tvalidation-rmse:5.19496\n",
      "[90]\tvalidation-rmse:5.19484\n",
      "[91]\tvalidation-rmse:5.19454\n",
      "[92]\tvalidation-rmse:5.19423\n",
      "[93]\tvalidation-rmse:5.19369\n",
      "[94]\tvalidation-rmse:5.19395\n",
      "[95]\tvalidation-rmse:5.19322\n",
      "[96]\tvalidation-rmse:5.19264\n",
      "[97]\tvalidation-rmse:5.19237\n",
      "[98]\tvalidation-rmse:5.19226\n",
      "[99]\tvalidation-rmse:5.19164\n"
     ]
    },
    {
     "name": "stderr",
     "output_type": "stream",
     "text": [
      "2024/05/27 11:10:48 WARNING mlflow.xgboost: Failed to infer model signature: could not sample data to infer model signature: please ensure that autologging is enabled before constructing the dataset.\n",
      "2024/05/27 11:10:48 WARNING mlflow.utils.autologging_utils: MLflow autologging encountered a warning: \"d:\\Study\\Conda Projects\\mlops-zoom\\mlops\\lib\\site-packages\\xgboost\\core.py:160: UserWarning: [11:10:48] WARNING: C:\\buildkite-agent\\builds\\buildkite-windows-cpu-autoscaling-group-i-0b3782d1791676daf-1\\xgboost\\xgboost-ci-windows\\src\\c_api\\c_api.cc:1240: Saving into deprecated binary model format, please consider using `json` or `ubj`. Model format will default to JSON in XGBoost 2.2 if not specified.\"\n",
      "2024/05/27 11:11:02 WARNING mlflow.utils.autologging_utils: MLflow autologging encountered a warning: \"d:\\Study\\Conda Projects\\mlops-zoom\\mlops\\lib\\site-packages\\_distutils_hack\\__init__.py:18: UserWarning: Distutils was imported before Setuptools, but importing Setuptools also replaces the `distutils` module in `sys.modules`. This may lead to undesirable behaviors or errors. To avoid these issues, avoid using distutils directly, ensure that setuptools is installed in the traditional way (e.g. not an editable install), and/or make sure that setuptools is always imported before distutils.\"\n",
      "2024/05/27 11:11:02 WARNING mlflow.utils.autologging_utils: MLflow autologging encountered a warning: \"d:\\Study\\Conda Projects\\mlops-zoom\\mlops\\lib\\site-packages\\_distutils_hack\\__init__.py:33: UserWarning: Setuptools is replacing distutils.\"\n",
      "d:\\Study\\Conda Projects\\mlops-zoom\\mlops\\lib\\site-packages\\sklearn\\metrics\\_regression.py:483: FutureWarning: 'squared' is deprecated in version 1.4 and will be removed in 1.6. To calculate the root mean squared error, use the function'root_mean_squared_error'.\n",
      "  warnings.warn(\n",
      "d:\\Study\\Conda Projects\\mlops-zoom\\mlops\\lib\\site-packages\\xgboost\\core.py:160: UserWarning: [11:11:03] WARNING: C:\\buildkite-agent\\builds\\buildkite-windows-cpu-autoscaling-group-i-0b3782d1791676daf-1\\xgboost\\xgboost-ci-windows\\src\\c_api\\c_api.cc:1240: Saving into deprecated binary model format, please consider using `json` or `ubj`. Model format will default to JSON in XGBoost 2.2 if not specified.\n",
      "  warnings.warn(smsg, UserWarning)\n",
      "d:\\Study\\Conda Projects\\mlops-zoom\\mlops\\lib\\site-packages\\_distutils_hack\\__init__.py:18: UserWarning: Distutils was imported before Setuptools, but importing Setuptools also replaces the `distutils` module in `sys.modules`. This may lead to undesirable behaviors or errors. To avoid these issues, avoid using distutils directly, ensure that setuptools is installed in the traditional way (e.g. not an editable install), and/or make sure that setuptools is always imported before distutils.\n",
      "  warnings.warn(\n",
      "d:\\Study\\Conda Projects\\mlops-zoom\\mlops\\lib\\site-packages\\_distutils_hack\\__init__.py:33: UserWarning: Setuptools is replacing distutils.\n",
      "  warnings.warn(\"Setuptools is replacing distutils.\")\n"
     ]
    }
   ],
   "source": [
    "mlflow.xgboost.autolog()\n",
    "with mlflow.start_run():\n",
    "    params = {\n",
    "            'learning_rate': 0.09585355369315604,\n",
    "            'max_depth': 30,\n",
    "            'min_child_weight': 1.060597050922164,\n",
    "            'objective': 'reg:linear',\n",
    "            'reg_alpha': 0.018060244040060163,\n",
    "            'reg_lambda': 0.011658731377413597,\n",
    "            'seed': 42\n",
    "        }\n",
    "\n",
    "    \n",
    "    mlflow.log_params(params)\n",
    "\n",
    "    booster = xgb.train(\n",
    "                params=params,\n",
    "                dtrain=train,\n",
    "                num_boost_round=100,\n",
    "                evals=[(valid, 'validation')],\n",
    "                early_stopping_rounds=50\n",
    "            )\n",
    "\n",
    "    y_pred = booster.predict(valid)\n",
    "    rmse = mean_squared_error(y_true=y_val,y_pred=y_pred, squared=False)\n",
    "    mlflow.log_metric(\"rmse\",rmse)\n",
    "\n",
    "    with open(\"models/preprocessor.b\", \"wb\") as f_out:\n",
    "        pickle.dump(dv,f_out)\n",
    "    \n",
    "    mlflow.log_artifact(\"models/preprocessor.b\", artifact_path=\"preprocessor\")\n",
    "\n",
    "    mlflow.xgboost.log_model(booster, artifact_path=\"models_mlflow\")"
   ]
  },
  {
   "cell_type": "markdown",
   "metadata": {},
   "source": [
    "### Loading the MLFlow saved model"
   ]
  },
  {
   "cell_type": "code",
   "execution_count": 41,
   "metadata": {},
   "outputs": [
    {
     "name": "stderr",
     "output_type": "stream",
     "text": [
      "d:\\Study\\Conda Projects\\mlops-zoom\\mlops\\lib\\site-packages\\xgboost\\core.py:160: UserWarning: [10:29:58] WARNING: C:\\buildkite-agent\\builds\\buildkite-windows-cpu-autoscaling-group-i-0b3782d1791676daf-1\\xgboost\\xgboost-ci-windows\\src\\objective\\regression_obj.cu:209: reg:linear is now deprecated in favor of reg:squarederror.\n",
      "  warnings.warn(smsg, UserWarning)\n"
     ]
    }
   ],
   "source": [
    "logged_model = 'runs:/72e5c09fb0b1429188dc384b0d9bbc5a/models_mlflow'\n",
    "\n",
    "loaded_model = mlflow.pyfunc.load_model(logged_model)"
   ]
  },
  {
   "cell_type": "code",
   "execution_count": 42,
   "metadata": {},
   "outputs": [
    {
     "data": {
      "text/plain": [
       "mlflow.pyfunc.loaded_model:\n",
       "  artifact_path: models_mlflow\n",
       "  flavor: mlflow.xgboost\n",
       "  run_id: 72e5c09fb0b1429188dc384b0d9bbc5a"
      ]
     },
     "execution_count": 42,
     "metadata": {},
     "output_type": "execute_result"
    }
   ],
   "source": [
    "loaded_model"
   ]
  },
  {
   "cell_type": "code",
   "execution_count": 43,
   "metadata": {},
   "outputs": [
    {
     "name": "stderr",
     "output_type": "stream",
     "text": [
      "d:\\Study\\Conda Projects\\mlops-zoom\\mlops\\lib\\site-packages\\xgboost\\core.py:160: UserWarning: [10:31:05] WARNING: C:\\buildkite-agent\\builds\\buildkite-windows-cpu-autoscaling-group-i-0b3782d1791676daf-1\\xgboost\\xgboost-ci-windows\\src\\objective\\regression_obj.cu:209: reg:linear is now deprecated in favor of reg:squarederror.\n",
      "  warnings.warn(smsg, UserWarning)\n"
     ]
    }
   ],
   "source": [
    "xgboost_model = mlflow.xgboost.load_model(logged_model)"
   ]
  },
  {
   "cell_type": "code",
   "execution_count": 44,
   "metadata": {},
   "outputs": [
    {
     "data": {
      "text/plain": [
       "<xgboost.core.Booster at 0x2218f5d7df0>"
      ]
     },
     "execution_count": 44,
     "metadata": {},
     "output_type": "execute_result"
    }
   ],
   "source": [
    "xgboost_model"
   ]
  },
  {
   "cell_type": "code",
   "execution_count": null,
   "metadata": {},
   "outputs": [],
   "source": []
  },
  {
   "cell_type": "markdown",
   "metadata": {},
   "source": [
    "### Model Registry"
   ]
  },
  {
   "cell_type": "code",
   "execution_count": 17,
   "metadata": {},
   "outputs": [
    {
     "name": "stderr",
     "output_type": "stream",
     "text": [
      "2024/05/27 11:20:24 WARNING mlflow.sklearn: Failed to log training dataset information to MLflow Tracking. Reason: 'numpy.ndarray' object has no attribute 'toarray'\n",
      "2024/05/27 11:25:57 WARNING mlflow.utils.autologging_utils: MLflow autologging encountered a warning: \"d:\\Study\\Conda Projects\\mlops-zoom\\mlops\\lib\\site-packages\\_distutils_hack\\__init__.py:33: UserWarning: Setuptools is replacing distutils.\"\n",
      "d:\\Study\\Conda Projects\\mlops-zoom\\mlops\\lib\\site-packages\\sklearn\\metrics\\_regression.py:483: FutureWarning: 'squared' is deprecated in version 1.4 and will be removed in 1.6. To calculate the root mean squared error, use the function'root_mean_squared_error'.\n",
      "  warnings.warn(\n",
      "2024/05/27 11:26:07 WARNING mlflow.sklearn: Failed to log training dataset information to MLflow Tracking. Reason: 'numpy.ndarray' object has no attribute 'toarray'\n",
      "d:\\Study\\Conda Projects\\mlops-zoom\\mlops\\lib\\site-packages\\sklearn\\metrics\\_regression.py:483: FutureWarning: 'squared' is deprecated in version 1.4 and will be removed in 1.6. To calculate the root mean squared error, use the function'root_mean_squared_error'.\n",
      "  warnings.warn(\n",
      "2024/05/27 11:26:26 WARNING mlflow.sklearn: Failed to log training dataset information to MLflow Tracking. Reason: 'numpy.ndarray' object has no attribute 'toarray'\n",
      "d:\\Study\\Conda Projects\\mlops-zoom\\mlops\\lib\\site-packages\\sklearn\\metrics\\_regression.py:483: FutureWarning: 'squared' is deprecated in version 1.4 and will be removed in 1.6. To calculate the root mean squared error, use the function'root_mean_squared_error'.\n",
      "  warnings.warn(\n",
      "2024/05/27 11:37:52 WARNING mlflow.sklearn: Failed to log training dataset information to MLflow Tracking. Reason: 'numpy.ndarray' object has no attribute 'toarray'\n",
      "d:\\Study\\Conda Projects\\mlops-zoom\\mlops\\lib\\site-packages\\sklearn\\svm\\_classes.py:31: FutureWarning: The default value of `dual` will change from `True` to `'auto'` in 1.5. Set the value of `dual` explicitly to suppress the warning.\n",
      "  warnings.warn(\n",
      "d:\\Study\\Conda Projects\\mlops-zoom\\mlops\\lib\\site-packages\\sklearn\\svm\\_base.py:1237: ConvergenceWarning: Liblinear failed to converge, increase the number of iterations.\n",
      "  warnings.warn(\n",
      "d:\\Study\\Conda Projects\\mlops-zoom\\mlops\\lib\\site-packages\\sklearn\\metrics\\_regression.py:483: FutureWarning: 'squared' is deprecated in version 1.4 and will be removed in 1.6. To calculate the root mean squared error, use the function'root_mean_squared_error'.\n",
      "  warnings.warn(\n"
     ]
    }
   ],
   "source": [
    "from sklearn.ensemble import RandomForestRegressor, GradientBoostingRegressor, ExtraTreesRegressor\n",
    "from sklearn.svm import LinearSVR\n",
    "\n",
    "# mlflow.sklearn.autolog()\n",
    "\n",
    "for model_class in (RandomForestRegressor, GradientBoostingRegressor, ExtraTreesRegressor, LinearSVR):\n",
    "\n",
    "    with mlflow.start_run():\n",
    "\n",
    "        mlflow.log_param(\"train-data-path\", \"D:\\Study\\Conda Projects\\mlops-zoom\\data\\green\\green_tripdata_2023-01.parquet\")\n",
    "        mlflow.log_param(\"valid-data-path\", \"D:\\Study\\Conda Projects\\mlops-zoom\\data\\green\\green_tripdata_2023-02.parquet\")\n",
    "        mlflow.log_artifact(\"models/preprocessor.b\", artifact_path=\"preprocessor\")\n",
    "\n",
    "        mlmodel = model_class()\n",
    "        mlmodel.fit(X_train, y_train)\n",
    "\n",
    "        y_pred = mlmodel.predict(X_val)\n",
    "        rmse = mean_squared_error(y_val, y_pred, squared=False)\n",
    "        mlflow.log_metric(\"rmse\", rmse)\n",
    "        "
   ]
  }
 ],
 "metadata": {
  "kernelspec": {
   "display_name": "Python 3",
   "language": "python",
   "name": "python3"
  },
  "language_info": {
   "codemirror_mode": {
    "name": "ipython",
    "version": 3
   },
   "file_extension": ".py",
   "mimetype": "text/x-python",
   "name": "python",
   "nbconvert_exporter": "python",
   "pygments_lexer": "ipython3",
   "version": "3.10.14"
  }
 },
 "nbformat": 4,
 "nbformat_minor": 2
}
